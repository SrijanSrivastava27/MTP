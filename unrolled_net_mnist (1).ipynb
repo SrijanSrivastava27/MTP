{
  "nbformat": 4,
  "nbformat_minor": 0,
  "metadata": {
    "colab": {
      "provenance": [],
      "gpuType": "T4"
    },
    "kernelspec": {
      "name": "python3",
      "display_name": "Python 3"
    },
    "language_info": {
      "name": "python"
    },
    "accelerator": "GPU"
  },
  "cells": [
    {
      "cell_type": "code",
      "source": [
        "import torch\n",
        "import torch.nn as nn\n",
        "import torch.optim as optim\n",
        "import torchvision\n",
        "import torchvision.transforms as transforms\n",
        "from torch.utils.data import DataLoader\n",
        "import torchvision.transforms.functional as F\n",
        "from scipy.ndimage import gaussian_filter\n",
        "import numpy as np\n",
        "import cv2"
      ],
      "metadata": {
        "id": "qP5N6U7QIDeN"
      },
      "execution_count": null,
      "outputs": []
    },
    {
      "cell_type": "code",
      "source": [
        "# Define the Unrolled Network for 5 Layers\n",
        "class UnrolledDeblurringNetwork(nn.Module):\n",
        "    def __init__(self, num_layers=5):\n",
        "        super(UnrolledDeblurringNetwork, self).__init__()\n",
        "        self.num_layers = num_layers\n",
        "        self.shared_layer = nn.Conv2d(in_channels = 1, out_channels = 1, kernel_size = 3, padding = 1)\n",
        "        self.relu = nn.ReLU()\n",
        "\n",
        "    def forward(self, x):\n",
        "        for i in range(self.num_layers):\n",
        "            x = self.relu(self.shared_layer(x))\n",
        "        return x"
      ],
      "metadata": {
        "id": "iV2iQkHbIFim"
      },
      "execution_count": null,
      "outputs": []
    },
    {
      "cell_type": "code",
      "source": [
        "# Create a function to generate Gaussian blur kernels\n",
        "def gaussian_blur(image, sigma):\n",
        "    image = np.array(image)\n",
        "    blurred = gaussian_filter(image, sigma=sigma)\n",
        "    return F.to_tensor(blurred)\n",
        "\n",
        "# Blur functions for training and testing\n",
        "def blur_image(img, kernel):\n",
        "    img_np = img.numpy()\n",
        "    blurred = cv2.filter2D(img_np, -1, kernel.numpy())\n",
        "    return torch.from_numpy(blurred)"
      ],
      "metadata": {
        "id": "jVVS4FQmIHrQ"
      },
      "execution_count": null,
      "outputs": []
    },
    {
      "cell_type": "code",
      "source": [
        "# PSNR Calculation\n",
        "import math\n",
        "def calculate_psnr(target, prediction):\n",
        "    mse = nn.functional.mse_loss(prediction, target, reduction='mean').item()\n",
        "    if mse == 0:\n",
        "        return float('inf')\n",
        "    psnr = 20 * math.log10(1.0 / math.sqrt(mse))\n",
        "    return psnr"
      ],
      "metadata": {
        "id": "mwRWOxstY3iI"
      },
      "execution_count": null,
      "outputs": []
    },
    {
      "cell_type": "code",
      "source": [
        "# Load MNIST dataset\n",
        "transform = transforms.Compose([transforms.ToTensor()])\n",
        "train_dataset = torchvision.datasets.MNIST(root='./data', train=True, download=True, transform=transform)\n",
        "test_dataset = torchvision.datasets.MNIST(root='./data', train=False, download=True, transform=transform)\n",
        "\n",
        "train_loader = DataLoader(train_dataset, batch_size=64, shuffle=True)\n",
        "test_loader = DataLoader(test_dataset, batch_size=64, shuffle=False)"
      ],
      "metadata": {
        "id": "nVrNaFfmIJWG"
      },
      "execution_count": null,
      "outputs": []
    },
    {
      "cell_type": "code",
      "execution_count": null,
      "metadata": {
        "id": "XSSrc2EAcLDC"
      },
      "outputs": [],
      "source": [
        "# Instantiate model, loss, and optimizer\n",
        "device = torch.device(\"cuda\" if torch.cuda.is_available() else \"cpu\")\n",
        "model = UnrolledDeblurringNetwork(num_layers=5).to(device)\n",
        "criterion = nn.MSELoss()\n",
        "optimizer = optim.Adam(model.parameters(), lr=0.001)\n",
        "\n",
        "# Training\n",
        "h1_sigma = 1\n",
        "h2_sigma = 2\n",
        "\n",
        "\n",
        "epochs = 10\n",
        "for epoch in range(epochs):\n",
        "    model.train()\n",
        "    running_loss = 0.0\n",
        "    correct_train = 0\n",
        "    total_train = 0\n",
        "    total_psnr_train = 0\n",
        "    for images, _ in train_loader:\n",
        "        images = images.cpu()\n",
        "        blurred_images = torch.stack([gaussian_blur(input, sigma = h1_sigma) for input in images])\n",
        "        blurred_images = blurred_images.permute(0,2,3,1)\n",
        "        blurred_images = blurred_images.to(device)\n",
        "        images = images.to(device)\n",
        "\n",
        "        outputs = model(blurred_images)\n",
        "        loss = criterion(outputs, images)\n",
        "\n",
        "        optimizer.zero_grad()\n",
        "        loss.backward()\n",
        "        optimizer.step()\n",
        "\n",
        "        running_loss += loss.item()\n",
        "\n",
        "        # Calculate PSNR for mini-batch\n",
        "        psnr = calculate_psnr(images, outputs)\n",
        "        total_psnr_train += psnr\n",
        "        print(f\"Mini-batch PSNR: {psnr:.4f}\")\n",
        "\n",
        "        correct_train += torch.sum(torch.abs(outputs - images) < 0.05).item()\n",
        "        total_train += images.numel()\n",
        "\n",
        "    train_accuracy = 100 * correct_train / total_train\n",
        "    avg_psnr_train = total_psnr_train / len(train_loader)\n",
        "    print(f\"Epoch [{epoch+1}/{epochs}], Loss: {running_loss/len(train_loader):.4f}, Train Accuracy: {train_accuracy:.4f}, Avg Train PSNR: {avg_psnr_train:.4f}\")\n",
        "\n",
        "    model.eval()\n",
        "    with torch.no_grad():\n",
        "        test_loss = 0.0\n",
        "        correct_test = 0\n",
        "        total_test = 0\n",
        "        total_psnr_test = 0\n",
        "        for images, _ in test_loader:\n",
        "            images = images.cpu()\n",
        "            blurred_images = torch.stack([gaussian_blur(input, sigma = h2_sigma) for input in images])\n",
        "            blurred_images = blurred_images.permute(0,2,3,1)\n",
        "            blurred_images = blurred_images.to(device)\n",
        "            images = images.to(device)\n",
        "\n",
        "            # Forward pass\n",
        "            outputs = model(blurred_images)\n",
        "            loss = criterion(outputs, images)\n",
        "            test_loss += loss.item()\n",
        "\n",
        "            # Calculate PSNR for mini-batch\n",
        "            psnr = calculate_psnr(images, outputs)\n",
        "            total_psnr_test += psnr\n",
        "\n",
        "            # Calculating accur\n",
        "            correct_test += torch.sum(torch.abs(outputs - images) < 0.05).item()\n",
        "            total_test += images.numel()\n",
        "\n",
        "        test_accuracy = 100 * correct_test / total_test\n",
        "        avg_psnr_test = total_psnr_test / len(test_loader)\n",
        "        print(f\"Epoch [{epoch+1}/{epochs}], Test Loss: {test_loss/len(test_loader):.4f}, Test Accuracy: {test_accuracy:.4f}, Avg Test PSNR: {avg_psnr_test:.4f}\")"
      ]
    }
  ]
}